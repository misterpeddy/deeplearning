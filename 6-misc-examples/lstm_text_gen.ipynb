{
  "nbformat": 4,
  "nbformat_minor": 0,
  "metadata": {
    "colab": {
      "name": "LSTM Text Generation",
      "version": "0.3.2",
      "provenance": [],
      "collapsed_sections": []
    },
    "kernelspec": {
      "name": "python3",
      "display_name": "Python 3"
    }
  },
  "cells": [
    {
      "metadata": {
        "id": "TDERXd9wqHaz",
        "colab_type": "code",
        "colab": {}
      },
      "cell_type": "code",
      "source": [
        "import keras\n",
        "\n",
        "filepath = keras.utils.get_file(\n",
        "    'nietzsche.txt',\n",
        "     origin='https://s3.amazonaws.com/text-datasets/nietzsche.txt')\n",
        "\n",
        "text = open(filepath).read().lower()"
      ],
      "execution_count": 0,
      "outputs": []
    },
    {
      "metadata": {
        "id": "n3AFiHrbq0MK",
        "colab_type": "code",
        "colab": {}
      },
      "cell_type": "code",
      "source": [
        "import numpy as np\n",
        "\n",
        "maxlen = 60\n",
        "step = 3\n",
        "\n",
        "sentences = []\n",
        "predictions = []\n",
        "\n",
        "for i in range(0, len(text) - maxlen, step):\n",
        "  sentences.append(text[i:i+maxlen])\n",
        "  predictions.append(text[i+maxlen+1])\n",
        "\n",
        "chars = sorted(list(set(text)))\n",
        "char_index = dict((x, chars.index(x)) for x in chars)\n",
        "\n",
        "x = np.zeros((len(sentences), maxlen, len(chars)), dtype=np.bool)\n",
        "y = np.zeros((len(sentences), len(chars)), dtype=np.bool)\n",
        "\n",
        "for i, sentence in enumerate(sentences):\n",
        "  for j, c in enumerate(sentence):\n",
        "    x[i, j, char_index[c]] = 1\n",
        "  y[i, char_index[predictions[i]]] = 1"
      ],
      "execution_count": 0,
      "outputs": []
    },
    {
      "metadata": {
        "id": "G6gwoyD9tBSx",
        "colab_type": "code",
        "colab": {}
      },
      "cell_type": "code",
      "source": [
        "from keras import models, layers\n",
        "\n",
        "model = models.Sequential()\n",
        "model.add(layers.LSTM(128, input_shape=(maxlen, len(chars))))\n",
        "model.add(layers.Dense(len(chars), activation='softmax'))\n",
        "\n",
        "optimizer = keras.optimizers.RMSprop(lr=0.01)\n",
        "model.compile(optimizer=optimizer, \n",
        "              loss='categorical_crossentropy', \n",
        "              metrics=['acc'])"
      ],
      "execution_count": 0,
      "outputs": []
    },
    {
      "metadata": {
        "id": "UVv00eeltcAD",
        "colab_type": "code",
        "colab": {}
      },
      "cell_type": "code",
      "source": [
        "def sample(preds, temperature=1):\n",
        "  preds = np.asarray(preds).astype('float64')\n",
        "  preds = np.log(preds) / temperature\n",
        "  exp_preds = np.exp(preds)\n",
        "  preds = exp_preds / sum(exp_preds)\n",
        "  probs = np.random.multinomial(1, preds, 1)\n",
        "  return np.argmax(probs)\n",
        "  "
      ],
      "execution_count": 0,
      "outputs": []
    },
    {
      "metadata": {
        "id": "d66iPDTUwF8l",
        "colab_type": "code",
        "colab": {}
      },
      "cell_type": "code",
      "source": [
        "import sys\n",
        "\n",
        "num_epochs = 10\n",
        "max_gen_len = 400\n",
        "\n",
        "for i in range(0, num_epochs):\n",
        "  model.fit(x, y, epochs=1, batch_size=128)\n",
        "  \n",
        "  seed_index = np.random.randint(0, len(text) - maxlen - 1)\n",
        "  seed_text = text[seed_index : seed_index + maxlen]\n",
        "\n",
        "  temps = [0.2, 0.5, 0.7, 1]\n",
        "  \n",
        "  for temp in temps:\n",
        "    print('------ temp: %d ------' % temp)\n",
        "    gen_text = seed_text\n",
        "    sys.stdout.write(gen_text)\n",
        "      \n",
        "    for i in range(max_gen_len):\n",
        "      encoded_seed = np.zeros((1, maxlen, len(chars)))\n",
        "      for i, c in enumerate(gen_text):\n",
        "        encoded_seed[0, i, char_index[c]] = 1\n",
        "  \n",
        "      preds = model.predict(encoded_seed)[0]\n",
        "      sample_index = sample(preds, temp)\n",
        "      sample_char = chars[sample_index]\n",
        "      sys.stdout.write(sample_char)\n",
        "      gen_text += sample_char\n",
        "      gen_text = gen_text[1:]"
      ],
      "execution_count": 0,
      "outputs": []
    },
    {
      "metadata": {
        "id": "mOAZ4An7y4P-",
        "colab_type": "code",
        "colab": {}
      },
      "cell_type": "code",
      "source": [
        ""
      ],
      "execution_count": 0,
      "outputs": []
    }
  ]
}