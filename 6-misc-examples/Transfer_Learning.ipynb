{
  "nbformat": 4,
  "nbformat_minor": 0,
  "metadata": {
    "colab": {
      "name": "Transfer Learning.ipynb",
      "version": "0.3.2",
      "provenance": [],
      "collapsed_sections": [],
      "include_colab_link": true
    },
    "kernelspec": {
      "name": "python3",
      "display_name": "Python 3"
    }
  },
  "cells": [
    {
      "cell_type": "markdown",
      "metadata": {
        "id": "view-in-github",
        "colab_type": "text"
      },
      "source": [
        "<a href=\"https://colab.research.google.com/github/unclepeddy/deeplearning/blob/master/6-misc-examples/Transfer_Learning.ipynb\" target=\"_parent\"><img src=\"https://colab.research.google.com/assets/colab-badge.svg\" alt=\"Open In Colab\"/></a>"
      ]
    },
    {
      "metadata": {
        "id": "8eFTroHjRAeA",
        "colab_type": "code",
        "colab": {}
      },
      "cell_type": "code",
      "source": [
        "! pip install tf-nightly-gpu-2.0-preview\n",
        "\n",
        "%load_ext tensorboard"
      ],
      "execution_count": 0,
      "outputs": []
    },
    {
      "metadata": {
        "id": "zR1m8M3-RQNL",
        "colab_type": "code",
        "colab": {}
      },
      "cell_type": "code",
      "source": [
        "import datetime\n",
        "import tensorflow as tf\n",
        "import numpy as np\n",
        "import tensorflow_hub as hub\n",
        "import matplotlib.pyplot as plt\n",
        "import os\n",
        "\n",
        "print(tf.__version__)"
      ],
      "execution_count": 0,
      "outputs": []
    },
    {
      "metadata": {
        "id": "5eVj6-pERtWu",
        "colab_type": "code",
        "colab": {}
      },
      "cell_type": "code",
      "source": [
        "# Download dataset\n",
        "data_url = \"http://data.peddy.ai/datasets/hand.tar\"\n",
        "data_root = tf.keras.utils.get_file(\"hand\", data_url, untar=True)\n",
        "\n",
        "train_dir = os.path.join(data_root, \"train\")\n",
        "test_dir = os.path.join(data_root, \"test\")\n"
      ],
      "execution_count": 0,
      "outputs": []
    },
    {
      "metadata": {
        "id": "LNNR_cHaTqDO",
        "colab_type": "code",
        "colab": {}
      },
      "cell_type": "code",
      "source": [
        "# Prepare dataset to be fed into memory\n",
        "target_size = (224, 224)\n",
        "batch_size = 32\n",
        "\n",
        "train_gen = tf.keras.preprocessing.image.ImageDataGenerator(\n",
        "    rescale=1/255,\n",
        "    rotation_range=40,\n",
        "    zoom_range=0.2)\n",
        "test_gen = tf.keras.preprocessing.image.ImageDataGenerator(rescale=1/255)\n",
        "\n",
        "train_data = train_gen.flow_from_directory(train_dir, \n",
        "                                           target_size=target_size, \n",
        "                                           batch_size=batch_size,\n",
        "                                           shuffle=True)\n",
        "test_data = test_gen.flow_from_directory(test_dir, \n",
        "                                         target_size=target_size,\n",
        "                                         batch_size=batch_size,\n",
        "                                         shuffle=True)\n",
        "\n",
        "assert train_data.num_classes == 2\n",
        "assert test_data.num_classes == 2"
      ],
      "execution_count": 0,
      "outputs": []
    },
    {
      "metadata": {
        "id": "kH_chVb0UvfQ",
        "colab_type": "code",
        "colab": {}
      },
      "cell_type": "code",
      "source": [
        "# Sanity check the data\n",
        "sample_images, sample_targets = test_data.next()\n",
        "plt.figure(figsize=(20,20))\n",
        "for i in range(10):\n",
        "  plt.subplot(5,2,i+1)\n",
        "  plt.imshow(sample_images[i])\n",
        "train_data.reset()"
      ],
      "execution_count": 0,
      "outputs": []
    },
    {
      "metadata": {
        "id": "QsnuVG3qVZqS",
        "colab_type": "code",
        "colab": {}
      },
      "cell_type": "code",
      "source": [
        "# Download hub module and create headless feature extractor\n",
        "feature_extractor_url = 'https://tfhub.dev/google/tf2-preview/mobilenet_v2/feature_vector/2'\n",
        "feature_extractor_layer = hub.KerasLayer(feature_extractor_url, \n",
        "                                         input_shape=(target_size+(3,)))\n",
        "feature_extractor_layer.trainable = False"
      ],
      "execution_count": 0,
      "outputs": []
    },
    {
      "metadata": {
        "id": "4APjhh_5YiJP",
        "colab_type": "code",
        "colab": {}
      },
      "cell_type": "code",
      "source": [
        "# Attach classification head to build model and compile\n",
        "model = tf.keras.Sequential([\n",
        "    feature_extractor_layer,\n",
        "    tf.keras.layers.Dense(2, activation='softmax')\n",
        "])\n",
        "\n",
        "model.compile(loss='binary_crossentropy', \n",
        "              optimizer='adam', \n",
        "              metrics=['acc'])"
      ],
      "execution_count": 0,
      "outputs": []
    },
    {
      "metadata": {
        "id": "5u0tg_FXYiPb",
        "colab_type": "code",
        "colab": {}
      },
      "cell_type": "code",
      "source": [
        "# Train model with appropriate telemetry \n",
        "log_dir = os.path.join('logs', datetime.datetime.now().strftime(\"%Y%M%d-%h%m%s\"))\n",
        "tb_callback = tf.keras.callbacks.TensorBoard(log_dir,\n",
        "                                             histogram_freq=1,\n",
        "                                             write_images=True,\n",
        "                                             update_freq='batch')\n",
        "\n",
        "\n",
        "steps_per_epoch = np.ceil(train_data.samples / train_data.batch_size)\n",
        "model.fit(train_data,\n",
        "          steps_per_epoch=steps_per_epoch,\n",
        "          validation_data=test_data,\n",
        "          callbacks=[tb_callback])"
      ],
      "execution_count": 0,
      "outputs": []
    },
    {
      "metadata": {
        "id": "kXy02w9cbPCL",
        "colab_type": "code",
        "colab": {}
      },
      "cell_type": "code",
      "source": [
        "# Test the model with some images\n",
        "for image_batch, label_batch in test_data:\n",
        "  break\n",
        "\n",
        "pred_batch = model.predict(image_batch)\n",
        "pred_batch = np.argmax(pred_batch, axis=-1)\n",
        "label_batch = np.argmax(label_batch, axis=-1)\n",
        "\n",
        "rev_index = dict([(v, k) for (k, v) in train_data.class_indices.items()])\n",
        "plt.figure(figsize=(20,20))\n",
        "for i in range(20):\n",
        "  plt.subplot(5, 4, i+1)\n",
        "  plt.imshow(image_batch[i])\n",
        "  title = rev_index[pred_batch[i]]\n",
        "  color = 'green' if label_batch[i] == pred_batch[i] else 'red'\n",
        "  plt.title(title, color=color)\n",
        "  plt.axis('off')"
      ],
      "execution_count": 0,
      "outputs": []
    }
  ]
}