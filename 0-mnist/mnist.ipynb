{
  "nbformat": 4,
  "nbformat_minor": 0,
  "metadata": {
    "colab": {
      "name": "mnist.ipynb",
      "version": "0.3.2",
      "provenance": [],
      "include_colab_link": true
    },
    "kernelspec": {
      "name": "python3",
      "display_name": "Python 3"
    }
  },
  "cells": [
    {
      "cell_type": "markdown",
      "metadata": {
        "id": "view-in-github",
        "colab_type": "text"
      },
      "source": [
        "[View in Colaboratory](https://colab.research.google.com/github/unclepeddy/deeplearning/blob/master/mnist/mnist.ipynb)"
      ]
    },
    {
      "metadata": {
        "id": "Mep4eTPbh2Bx",
        "colab_type": "code",
        "colab": {
          "base_uri": "https://localhost:8080/",
          "height": 272
        },
        "outputId": "5b6a7605-78f7-474a-dfee-924151e83bbb"
      },
      "cell_type": "code",
      "source": [
        "from keras import models\n",
        "from keras import layers\n",
        "from keras.datasets import mnist\n",
        "from keras.utils import to_categorical\n",
        "\n",
        "# Import labeled training and testing data\n",
        "(train_images, train_labels), (test_images, test_labels) = mnist.load_data()\n",
        "\n",
        "# Set input and training parameters\n",
        "(TRAIN_N, HEIGHT, WIDTH) = train_images.shape\n",
        "(TEST_N, _, _) = test_images.shape\n",
        "BATCH_SIZE = 128\n",
        "NUM_EPOCHS = 5\n",
        "\n",
        "# Reshape & retype images and labels\n",
        "train_images = train_images.reshape((TRAIN_N, WIDTH * HEIGHT))\n",
        "train_images = train_images.astype('float32') / 255\n",
        "test_images = test_images.reshape((TEST_N, WIDTH * HEIGHT))\n",
        "test_images = test_images.astype('float32') / 255\n",
        "train_labels = to_categorical(train_labels)\n",
        "test_labels = to_categorical(test_labels)\n",
        "\n",
        "# Build the network with a single hidden layer\n",
        "network = models.Sequential()\n",
        "network.add(layers.Dense(512, activation='relu', input_shape=(WIDTH * HEIGHT, )))\n",
        "network.add(layers.Dense(10, activation='softmax'))\n",
        "\n",
        "# Compile the network\n",
        "network.compile(optimizer='rmsprop',\n",
        "    loss='categorical_crossentropy',\n",
        "    metrics=['accuracy'])\n",
        "\n",
        "# Train the network\n",
        "network.fit(train_images,\n",
        "    train_labels,\n",
        "    epochs=NUM_EPOCHS,\n",
        "    batch_size=BATCH_SIZE)\n",
        "\n",
        "# Output training results\n",
        "test_loss, test_accuracy = network.evaluate(test_images, test_labels)\n",
        "print(test_loss, test_accuracy)\n"
      ],
      "execution_count": 1,
      "outputs": [
        {
          "output_type": "stream",
          "text": [
            "Using TensorFlow backend.\n"
          ],
          "name": "stderr"
        },
        {
          "output_type": "stream",
          "text": [
            "Downloading data from https://s3.amazonaws.com/img-datasets/mnist.npz\n",
            "11493376/11490434 [==============================] - 3s 0us/step\n",
            "Epoch 1/5\n",
            "60000/60000 [==============================] - 6s 94us/step - loss: 0.2545 - acc: 0.9258\n",
            "Epoch 2/5\n",
            "60000/60000 [==============================] - 6s 97us/step - loss: 0.1045 - acc: 0.9691\n",
            "Epoch 3/5\n",
            "60000/60000 [==============================] - 6s 93us/step - loss: 0.0688 - acc: 0.9794\n",
            "Epoch 4/5\n",
            "60000/60000 [==============================] - 6s 92us/step - loss: 0.0488 - acc: 0.9853\n",
            "Epoch 5/5\n",
            "60000/60000 [==============================] - 5s 91us/step - loss: 0.0376 - acc: 0.9889\n",
            "10000/10000 [==============================] - 1s 59us/step\n",
            "0.0622353104525595 0.9813\n"
          ],
          "name": "stdout"
        }
      ]
    }
  ]
}