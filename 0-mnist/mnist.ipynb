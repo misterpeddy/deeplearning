{
  "nbformat": 4,
  "nbformat_minor": 0,
  "metadata": {
    "colab": {
      "name": "mnist.ipynb",
      "version": "0.3.2",
      "provenance": [],
      "include_colab_link": true
    },
    "kernelspec": {
      "name": "python3",
      "display_name": "Python 3"
    }
  },
  "cells": [
    {
      "cell_type": "markdown",
      "metadata": {
        "id": "view-in-github",
        "colab_type": "text"
      },
      "source": [
        "<a href=\"https://colab.research.google.com/github/unclepeddy/deeplearning/blob/master/0-mnist/mnist.ipynb\" target=\"_parent\"><img src=\"https://colab.research.google.com/assets/colab-badge.svg\" alt=\"Open In Colab\"/></a>"
      ]
    },
    {
      "metadata": {
        "id": "Mep4eTPbh2Bx",
        "colab_type": "code",
        "colab": {}
      },
      "cell_type": "code",
      "source": [
        "!pip install tf-nightly-2.0-preview"
      ],
      "execution_count": 0,
      "outputs": []
    },
    {
      "metadata": {
        "id": "qL7hNuax65lz",
        "colab_type": "code",
        "colab": {
          "base_uri": "https://localhost:8080/",
          "height": 35
        },
        "outputId": "750668c0-1f21-44b0-b301-84bfecfda461"
      },
      "cell_type": "code",
      "source": [
        "import tensorflow as tf\n",
        "from tensorflow.keras import models\n",
        "from tensorflow.keras import layers\n",
        "from tensorflow.keras.datasets import mnist\n",
        "from tensorflow.keras.utils import to_categorical\n",
        "\n",
        "print(tf.__version__)"
      ],
      "execution_count": 2,
      "outputs": [
        {
          "output_type": "stream",
          "text": [
            "2.0.0-dev20190330\n"
          ],
          "name": "stdout"
        }
      ]
    },
    {
      "metadata": {
        "id": "v8kdV26m5ney",
        "colab_type": "code",
        "colab": {
          "base_uri": "https://localhost:8080/",
          "height": 269
        },
        "outputId": "96586b65-cb7f-4e33-ddfa-bd4732820886"
      },
      "cell_type": "code",
      "source": [
        "# Import labeled training and testing data\n",
        "(train_images, train_labels), (test_images, test_labels) = mnist.load_data()\n",
        "\n",
        "# Set input and training parameters\n",
        "(TRAIN_N, HEIGHT, WIDTH) = train_images.shape\n",
        "(TEST_N, _, _) = test_images.shape\n",
        "BATCH_SIZE = 128\n",
        "NUM_EPOCHS = 5\n",
        "\n",
        "# Reshape & retype images and labels\n",
        "train_images = train_images.reshape((TRAIN_N, WIDTH * HEIGHT))\n",
        "train_images = train_images.astype('float32') / 255\n",
        "test_images = test_images.reshape((TEST_N, WIDTH * HEIGHT))\n",
        "test_images = test_images.astype('float32') / 255\n",
        "train_labels = to_categorical(train_labels)\n",
        "test_labels = to_categorical(test_labels)\n",
        "\n",
        "# Build the network with a single hidden layer\n",
        "network = models.Sequential()\n",
        "network.add(layers.Dense(512, activation='relu', input_shape=(WIDTH * HEIGHT, )))\n",
        "network.add(layers.Dense(10, activation='softmax'))\n",
        "\n",
        "# Compile the network\n",
        "network.compile(optimizer='rmsprop',\n",
        "    loss='categorical_crossentropy',\n",
        "    metrics=['accuracy'])\n",
        "\n",
        "# Train the network\n",
        "network.fit(train_images,\n",
        "    train_labels,\n",
        "    epochs=NUM_EPOCHS,\n",
        "    batch_size=BATCH_SIZE)\n",
        "\n",
        "# Output training results\n",
        "test_loss, test_accuracy = network.evaluate(test_images, test_labels)\n",
        "print(test_loss, test_accuracy)\n"
      ],
      "execution_count": 3,
      "outputs": [
        {
          "output_type": "stream",
          "text": [
            "Downloading data from https://storage.googleapis.com/tensorflow/tf-keras-datasets/mnist.npz\n",
            "11493376/11490434 [==============================] - 0s 0us/step\n",
            "Epoch 1/5\n",
            "60000/60000 [==============================] - 7s 109us/sample - loss: 0.2611 - accuracy: 0.9237\n",
            "Epoch 2/5\n",
            "60000/60000 [==============================] - 6s 108us/sample - loss: 0.1061 - accuracy: 0.9682\n",
            "Epoch 3/5\n",
            "60000/60000 [==============================] - 6s 107us/sample - loss: 0.0690 - accuracy: 0.9793\n",
            "Epoch 4/5\n",
            "60000/60000 [==============================] - 6s 107us/sample - loss: 0.0518 - accuracy: 0.9844\n",
            "Epoch 5/5\n",
            "60000/60000 [==============================] - 6s 107us/sample - loss: 0.0382 - accuracy: 0.9890\n",
            "10000/10000 [==============================] - 1s 89us/sample - loss: 0.0749 - accuracy: 0.9781\n",
            "0.0749226368220523 0.9781\n"
          ],
          "name": "stdout"
        }
      ]
    }
  ]
}