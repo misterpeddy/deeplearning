{
  "nbformat": 4,
  "nbformat_minor": 0,
  "metadata": {
    "colab": {
      "name": "regression.ipynb",
      "version": "0.3.2",
      "provenance": [],
      "collapsed_sections": [],
      "include_colab_link": true
    },
    "kernelspec": {
      "name": "python3",
      "display_name": "Python 3"
    }
  },
  "cells": [
    {
      "cell_type": "markdown",
      "metadata": {
        "id": "view-in-github",
        "colab_type": "text"
      },
      "source": [
        "<a href=\"https://colab.research.google.com/github/unclepeddy/deeplearning/blob/master/3-housing-prices/simple_regression.ipynb\" target=\"_parent\"><img src=\"https://colab.research.google.com/assets/colab-badge.svg\" alt=\"Open In Colab\"/></a>"
      ]
    },
    {
      "metadata": {
        "id": "6-Ps0NBU7C7R",
        "colab_type": "code",
        "colab": {}
      },
      "cell_type": "code",
      "source": [
        "! pip install tf-nightly-2.0-preview"
      ],
      "execution_count": 0,
      "outputs": []
    },
    {
      "metadata": {
        "id": "Ry227hIG7yjd",
        "colab_type": "code",
        "colab": {
          "base_uri": "https://localhost:8080/",
          "height": 35
        },
        "outputId": "6292994e-9d33-442d-98e5-d28486485b5f"
      },
      "cell_type": "code",
      "source": [
        "import tensorflow as tf\n",
        "\n",
        "from tensorflow.keras import models, layers\n",
        "from tensorflow.keras.datasets import boston_housing\n",
        "\n",
        "import matplotlib.pyplot as plt\n",
        "import numpy as np\n",
        "\n",
        "print(tf.__version__)"
      ],
      "execution_count": 2,
      "outputs": [
        {
          "output_type": "stream",
          "text": [
            "2.0.0-dev20190330\n"
          ],
          "name": "stdout"
        }
      ]
    },
    {
      "metadata": {
        "id": "WSBJvqa97xYg",
        "colab_type": "code",
        "colab": {}
      },
      "cell_type": "code",
      "source": [
        "# Import Boston housing house price data set\n",
        "(train_data, train_targets), (test_data, test_targets) = boston_housing.load_data()\n",
        "\n",
        "# Training hyperparameters\n",
        "num_validation_folds = 4\n",
        "num_epochs = 100\n",
        "is_verbose = 0\n",
        "\n",
        "# Do feature-wise normalization\n",
        "mean = train_data.mean(axis=0)\n",
        "std = train_data.std(axis=0)\n",
        "train_data -= mean\n",
        "train_data /= std\n",
        "test_data -= mean\n",
        "test_data /= std"
      ],
      "execution_count": 0,
      "outputs": []
    },
    {
      "metadata": {
        "id": "I2UedRzo8VeL",
        "colab_type": "code",
        "colab": {}
      },
      "cell_type": "code",
      "source": [
        "# Function to build a simple 2 layer model \n",
        "def build_model():\n",
        "  model = models.Sequential()\n",
        "  model.add(layers.Dense(64, activation='relu', input_shape=(train_data.shape[1],)))\n",
        "  model.add(layers.Dense(64, activation='relu'))\n",
        "  model.add(layers.Dense(1))\n",
        "  model.compile(optimizer='rmsprop', loss='mse', metrics=['mae'])\n",
        "  return model"
      ],
      "execution_count": 0,
      "outputs": []
    },
    {
      "metadata": {
        "id": "NlTwKvdT8Vxt",
        "colab_type": "code",
        "colab": {
          "base_uri": "https://localhost:8080/",
          "height": 89
        },
        "outputId": "f0c23c06-e3ba-4e5c-dd90-6c2d0f413076"
      },
      "cell_type": "code",
      "source": [
        "# Calculate number of examples per validation fold \n",
        "fold_size = len(train_data) // num_validation_folds\n",
        "all_scores = []\n",
        "all_mae_histories = []\n",
        "\n",
        "# Train using k-fold validation technique\n",
        "for i in range(num_validation_folds):\n",
        "  print(\"processing fold #\", i)\n",
        "  \n",
        "  # Select validation set\n",
        "  val_data = train_data[i * fold_size: (i+1) * fold_size]\n",
        "  val_targets = train_targets[i * fold_size: (i+1) * fold_size]\n",
        "  \n",
        "  # Select training set using the rest of the data\n",
        "  partial_training_data = np.concatenate(\n",
        "      [train_data[:i * fold_size], \n",
        "      train_data[(i+1) * fold_size:]], axis=0)\n",
        "  partial_training_targets = np.concatenate(\n",
        "      [train_targets[:i * fold_size], \n",
        "      train_targets[(i+1) * fold_size:]], axis=0)\n",
        "  \n",
        "  # Re-compile model and train\n",
        "  model = build_model()\n",
        "  history = model.fit(partial_training_data, \n",
        "                      partial_training_targets, \n",
        "                      validation_data=(val_data, val_targets),\n",
        "                      epochs=num_epochs, \n",
        "                      batch_size=1, \n",
        "                      verbose=is_verbose)\n",
        "  \n",
        "  # Capture absolute error metric across this run\n",
        "  mae_history = history.history['val_mae']\n",
        "  all_mae_histories.append(mae_history)"
      ],
      "execution_count": 9,
      "outputs": [
        {
          "output_type": "stream",
          "text": [
            "processing fold # 0\n",
            "processing fold # 1\n",
            "processing fold # 2\n",
            "processing fold # 3\n"
          ],
          "name": "stdout"
        }
      ]
    },
    {
      "metadata": {
        "id": "0lDn-bwe9O9R",
        "colab_type": "code",
        "colab": {
          "base_uri": "https://localhost:8080/",
          "height": 361
        },
        "outputId": "2868879a-b565-490f-a5ee-d34f2cf1bcab"
      },
      "cell_type": "code",
      "source": [
        "# Calculate average MAE for each epoch\n",
        "average_mae_history = [np.mean([x[i] for x in all_mae_histories]) for i in range(num_epochs)]\n",
        "\n",
        "# Cut out first 10 epochs and implement explonential moving average\n",
        "def smooth_curve(points, factor=0.9):\n",
        "  smoothed_points = []\n",
        "  for point in points:\n",
        "    if smoothed_points:\n",
        "      previous = smoothed_points[-1] \n",
        "      smoothed_points.append(previous * factor + point * (1-factor))\n",
        "    else:\n",
        "      smoothed_points.append(point)\n",
        "  return smoothed_points\n",
        "\n",
        "smoothed_mae_history = smooth_curve(average_mae_history[10:])\n",
        "\n",
        "# Plot the MAE over epochs after 10\n",
        "plt.plot(range(10, len(smoothed_mae_history) + 10), smoothed_mae_history)\n",
        "plt.xlabel('Epochs')\n",
        "plt.ylabel('Validation MAE')\n",
        "plt.show()"
      ],
      "execution_count": 10,
      "outputs": [
        {
          "output_type": "display_data",
          "data": {
            "image/png": "[encoded data removed]",
            "text/plain": [
              "<Figure size 576x396 with 1 Axes>"
            ]
          },
          "metadata": {
            "tags": []
          }
        }
      ]
    },
    {
      "metadata": {
        "id": "ifOg2Ikj_aFa",
        "colab_type": "code",
        "colab": {
          "base_uri": "https://localhost:8080/",
          "height": 53
        },
        "outputId": "51035dd2-393f-4c7a-b05c-78c4df46e276"
      },
      "cell_type": "code",
      "source": [
        "loss, mae = model.evaluate(test_data, test_targets)\n",
        "\n",
        "print(\"Mean Absolute Error: $\", mae * 1000)"
      ],
      "execution_count": 12,
      "outputs": [
        {
          "output_type": "stream",
          "text": [
            "102/102 [==============================] - 0s 962us/sample - loss: 20.5090 - mae: 2.7885\n",
            "Mean Absolute Error: $ 2788.5377407073975\n"
          ],
          "name": "stdout"
        }
      ]
    }
  ]
}