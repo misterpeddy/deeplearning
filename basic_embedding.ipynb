{
  "nbformat": 4,
  "nbformat_minor": 0,
  "metadata": {
    "colab": {
      "name": "basic-embedding.ipynb",
      "version": "0.3.2",
      "provenance": [],
      "collapsed_sections": [],
      "include_colab_link": true
    },
    "kernelspec": {
      "name": "python3",
      "display_name": "Python 3"
    }
  },
  "cells": [
    {
      "cell_type": "markdown",
      "metadata": {
        "id": "view-in-github",
        "colab_type": "text"
      },
      "source": [
        "<a href=\"https://colab.research.google.com/github/unclepeddy/deeplearning/blob/master/basic_embedding.ipynb\" target=\"_parent\"><img src=\"https://colab.research.google.com/assets/colab-badge.svg\" alt=\"Open In Colab\"/></a>"
      ]
    },
    {
      "metadata": {
        "id": "lrofHGBtFqg3",
        "colab_type": "code",
        "colab": {}
      },
      "cell_type": "code",
      "source": [
        "!pip install tf-nightly-2.0-preview"
      ],
      "execution_count": 0,
      "outputs": []
    },
    {
      "metadata": {
        "id": "np9LIIV-Hqc6",
        "colab_type": "code",
        "colab": {
          "base_uri": "https://localhost:8080/",
          "height": 35
        },
        "outputId": "ca4bd976-c247-4650-bfab-85745e18784a"
      },
      "cell_type": "code",
      "source": [
        "import tensorflow as tf\n",
        "\n",
        "from tensorflow.keras.datasets import imdb\n",
        "from tensorflow.keras import models, layers, preprocessing\n",
        "from tensorflow.keras.layers import Embedding, Flatten, Dense\n",
        "\n",
        "print(tf.__version__)"
      ],
      "execution_count": 4,
      "outputs": [
        {
          "output_type": "stream",
          "text": [
            "2.0.0-dev20190330\n"
          ],
          "name": "stdout"
        }
      ]
    },
    {
      "metadata": {
        "id": "qie-GktZF0ou",
        "colab_type": "code",
        "colab": {}
      },
      "cell_type": "code",
      "source": [
        "# Size of vocabulary\n",
        "vocab_size = 10000 \n",
        "# Size of embedding input space\n",
        "embedding_input_dim = vocab_size \n",
        "# Size of embedding output space\n",
        "embedding_output_dim = 8 \n",
        "# Max length of each sentence\n",
        "maxlen = 20\n",
        "\n",
        "# Import and preprocess input sequences\n",
        "(x_train, y_train), (x_test, y_test) = imdb.load_data(num_words=vocab_size)\n",
        "x_train = preprocessing.sequence.pad_sequences(x_train, maxlen=maxlen)\n",
        "x_test = preprocessing.sequence.pad_sequences(x_test, maxlen=maxlen)"
      ],
      "execution_count": 0,
      "outputs": []
    },
    {
      "metadata": {
        "id": "5WRsMDtSIC6x",
        "colab_type": "code",
        "colab": {
          "base_uri": "https://localhost:8080/",
          "height": 269
        },
        "outputId": "f6b45245-f072-4de7-889c-2c2a14c28e72"
      },
      "cell_type": "code",
      "source": [
        "# Build a simple model: embedding -> dense with sigmoid activation\n",
        "model = models.Sequential()\n",
        "model.add(Embedding(embedding_input_dim, embedding_output_dim, input_length=maxlen))\n",
        "model.add(Flatten())\n",
        "model.add(Dense(1, activation='sigmoid'))\n",
        "\n",
        "# Compile and generate summary\n",
        "model.compile(optimizer='rmsprop', loss='binary_crossentropy', metrics=['acc'])\n",
        "model.summary()"
      ],
      "execution_count": 8,
      "outputs": [
        {
          "output_type": "stream",
          "text": [
            "Model: \"sequential_1\"\n",
            "_________________________________________________________________\n",
            "Layer (type)                 Output Shape              Param #   \n",
            "=================================================================\n",
            "embedding_1 (Embedding)      (None, 20, 8)             80000     \n",
            "_________________________________________________________________\n",
            "flatten_1 (Flatten)          (None, 160)               0         \n",
            "_________________________________________________________________\n",
            "dense_1 (Dense)              (None, 1)                 161       \n",
            "=================================================================\n",
            "Total params: 80,161\n",
            "Trainable params: 80,161\n",
            "Non-trainable params: 0\n",
            "_________________________________________________________________\n"
          ],
          "name": "stdout"
        }
      ]
    },
    {
      "metadata": {
        "id": "Ve-jH_DzIFaq",
        "colab_type": "code",
        "colab": {
          "base_uri": "https://localhost:8080/",
          "height": 395
        },
        "outputId": "bbad2ff0-ac29-4a00-d418-d133f6a4110e"
      },
      "cell_type": "code",
      "source": [
        "# Train the model\n",
        "history = model.fit(x_train, y_train, epochs=10, batch_size=32, validation_split=0.2)"
      ],
      "execution_count": 9,
      "outputs": [
        {
          "output_type": "stream",
          "text": [
            "Train on 20000 samples, validate on 5000 samples\n",
            "Epoch 1/10\n",
            "20000/20000 [==============================] - 1s 75us/sample - loss: 0.6774 - acc: 0.5987 - val_loss: 0.6403 - val_acc: 0.6798\n",
            "Epoch 2/10\n",
            "20000/20000 [==============================] - 1s 57us/sample - loss: 0.5643 - acc: 0.7421 - val_loss: 0.5433 - val_acc: 0.7222\n",
            "Epoch 3/10\n",
            "20000/20000 [==============================] - 1s 57us/sample - loss: 0.4747 - acc: 0.7821 - val_loss: 0.5090 - val_acc: 0.7418\n",
            "Epoch 4/10\n",
            "20000/20000 [==============================] - 1s 57us/sample - loss: 0.4262 - acc: 0.8076 - val_loss: 0.4974 - val_acc: 0.7510\n",
            "Epoch 5/10\n",
            "20000/20000 [==============================] - 1s 57us/sample - loss: 0.3928 - acc: 0.8261 - val_loss: 0.4944 - val_acc: 0.7572\n",
            "Epoch 6/10\n",
            "20000/20000 [==============================] - 1s 59us/sample - loss: 0.3659 - acc: 0.8402 - val_loss: 0.4986 - val_acc: 0.7580\n",
            "Epoch 7/10\n",
            "20000/20000 [==============================] - 1s 58us/sample - loss: 0.3436 - acc: 0.8527 - val_loss: 0.5033 - val_acc: 0.7538\n",
            "Epoch 8/10\n",
            "20000/20000 [==============================] - 1s 59us/sample - loss: 0.3228 - acc: 0.8651 - val_loss: 0.5118 - val_acc: 0.7550\n",
            "Epoch 9/10\n",
            "20000/20000 [==============================] - 1s 58us/sample - loss: 0.3047 - acc: 0.8741 - val_loss: 0.5205 - val_acc: 0.7552\n",
            "Epoch 10/10\n",
            "20000/20000 [==============================] - 1s 58us/sample - loss: 0.2872 - acc: 0.8819 - val_loss: 0.5295 - val_acc: 0.7534\n"
          ],
          "name": "stdout"
        }
      ]
    },
    {
      "metadata": {
        "id": "HIq3S0sMIVlm",
        "colab_type": "code",
        "colab": {
          "base_uri": "https://localhost:8080/",
          "height": 53
        },
        "outputId": "d109d199-be9f-49c1-e7db-cbaabc78be62"
      },
      "cell_type": "code",
      "source": [
        "# Evaluate the model\n",
        "test_loss, test_accuracy = model.evaluate(x_test, y_test)\n",
        "\n",
        "print(test_loss, test_accuracy)"
      ],
      "execution_count": 10,
      "outputs": [
        {
          "output_type": "stream",
          "text": [
            "25000/25000 [==============================] - 1s 23us/sample - loss: 0.5255 - acc: 0.7532\n",
            "0.5254613210964203 0.75316\n"
          ],
          "name": "stdout"
        }
      ]
    }
  ]
}