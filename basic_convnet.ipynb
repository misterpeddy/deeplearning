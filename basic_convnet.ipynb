{
  "nbformat": 4,
  "nbformat_minor": 0,
  "metadata": {
    "colab": {
      "name": "basic-convnet.ipynb",
      "version": "0.3.2",
      "provenance": [],
      "include_colab_link": true
    },
    "kernelspec": {
      "name": "python3",
      "display_name": "Python 3"
    }
  },
  "cells": [
    {
      "cell_type": "markdown",
      "metadata": {
        "id": "view-in-github",
        "colab_type": "text"
      },
      "source": [
        "<a href=\"https://colab.research.google.com/github/unclepeddy/deeplearning/blob/master/basic_convnet.ipynb\" target=\"_parent\"><img src=\"https://colab.research.google.com/assets/colab-badge.svg\" alt=\"Open In Colab\"/></a>"
      ]
    },
    {
      "metadata": {
        "id": "9aagEfYlCkXZ",
        "colab_type": "code",
        "colab": {}
      },
      "cell_type": "code",
      "source": [
        "# Download and unzip the complete dogs-vs-cats dataset\n",
        "\n",
        "%env DIR=cats_and_dogs\n",
        "\n",
        "! curl -o dogs-vs-cats.zip https://storage.googleapis.com/peddy-ai-dl-data/deeplearning-repo/dogs-vs-cats.zip\n",
        "\n",
        "! unzip -o dogs-vs-cats.zip -d $DIR\n",
        "! mkdir $DIR/original_data\n",
        "! unzip -o $DIR/test1.zip -d $DIR/original_data\n",
        "! unzip -o $DIR/train.zip -d $DIR/original_data"
      ],
      "execution_count": 0,
      "outputs": []
    },
    {
      "metadata": {
        "id": "LOF9hd4sYBw6",
        "colab_type": "code",
        "colab": {
          "base_uri": "https://localhost:8080/",
          "height": 179
        },
        "outputId": "950d4ddf-3e7f-4a95-ce35-4aa235666749"
      },
      "cell_type": "code",
      "source": [
        "# Create train/validation/test datasets from original data\n",
        "import os, shutil\n",
        "\n",
        "base_dir = os.path.join(os.getcwd(), 'cats_and_dogs')\n",
        "original_dataset_dir = os.path.join(base_dir, 'original_data', 'train')\n",
        "\n",
        "data_segment_names = ['train', 'validation', 'test']\n",
        "labels = ['cat', 'dog']\n",
        "\n",
        "data_segments = {\n",
        "\tdata_segment_names[0]: (0, 1000),\n",
        "\tdata_segment_names[1]: (1000, 1500),\n",
        "\tdata_segment_names[2]: (1500, 2000)\n",
        "}\n",
        "\n",
        "def mkdir(dir):\n",
        "\ttry:\n",
        "\t\tos.mkdir(dir)\n",
        "\texcept OSError:\n",
        "\t\tprint('{} not created - alread exists'.format(dir), dir)\n",
        "\n",
        "def prepare_data():\n",
        "\t# Make data segments directories\n",
        "\tfor segment in data_segment_names:\n",
        "\t\tsegment_dir = os.path.join(base_dir, segment)\n",
        "\t\tmkdir(segment_dir)\n",
        "\t\t# Make label directories for each data segment\n",
        "\t\tfor label in labels:\n",
        "\t\t\tlabel_segment_dir = os.path.join(segment_dir, label + 's')\n",
        "\t\t\tmkdir(label_segment_dir)\n",
        "\t\t\t# Copy data over for each data segment-label pair\n",
        "\t\t\tfnames = [(label+'.{}.jpg').format(i) for i in range(data_segments[segment][0], data_segments[segment][1])]\n",
        "\t\t\tfor fname in fnames:\n",
        "\t\t\t\tsrc = os.path.join(original_dataset_dir, fname)\n",
        "\t\t\t\tdst = os.path.join(label_segment_dir, fname)\n",
        "\t\t\t\tshutil.copyfile(src, dst)\n",
        "\n",
        "prepare_data()"
      ],
      "execution_count": 4,
      "outputs": [
        {
          "output_type": "stream",
          "text": [
            "/content/cats_and_dogs/train not created - alread exists /content/cats_and_dogs/train\n",
            "/content/cats_and_dogs/train/cats not created - alread exists /content/cats_and_dogs/train/cats\n",
            "/content/cats_and_dogs/train/dogs not created - alread exists /content/cats_and_dogs/train/dogs\n",
            "/content/cats_and_dogs/validation not created - alread exists /content/cats_and_dogs/validation\n",
            "/content/cats_and_dogs/validation/cats not created - alread exists /content/cats_and_dogs/validation/cats\n",
            "/content/cats_and_dogs/validation/dogs not created - alread exists /content/cats_and_dogs/validation/dogs\n",
            "/content/cats_and_dogs/test not created - alread exists /content/cats_and_dogs/test\n",
            "/content/cats_and_dogs/test/cats not created - alread exists /content/cats_and_dogs/test/cats\n",
            "/content/cats_and_dogs/test/dogs not created - alread exists /content/cats_and_dogs/test/dogs\n"
          ],
          "name": "stdout"
        }
      ]
    },
    {
      "metadata": {
        "id": "D6TnlhUDc0W5",
        "colab_type": "code",
        "colab": {}
      },
      "cell_type": "code",
      "source": [
        "! pip install tf-nightly-2.0-preview"
      ],
      "execution_count": 0,
      "outputs": []
    },
    {
      "metadata": {
        "id": "jMeIJ8qag4uw",
        "colab_type": "code",
        "colab": {
          "base_uri": "https://localhost:8080/",
          "height": 35
        },
        "outputId": "983dd07f-0e28-4439-8402-5ceb3a1b6842"
      },
      "cell_type": "code",
      "source": [
        "import tensorflow as tf\n",
        "\n",
        "from tensorflow.keras import layers, models, optimizers\n",
        "from tensorflow.keras.preprocessing.image import ImageDataGenerator\n",
        "\n",
        "print(tf.__version__)"
      ],
      "execution_count": 6,
      "outputs": [
        {
          "output_type": "stream",
          "text": [
            "2.0.0-dev20190331\n"
          ],
          "name": "stdout"
        }
      ]
    },
    {
      "metadata": {
        "id": "TDMzpmqkg-IA",
        "colab_type": "code",
        "colab": {
          "base_uri": "https://localhost:8080/",
          "height": 71
        },
        "outputId": "5f7c44ff-9572-4627-8913-36a145c41483"
      },
      "cell_type": "code",
      "source": [
        "# Build a network with 4 convolution-maxpooling blocks\n",
        "model = models.Sequential()\n",
        "model.add(layers.Conv2D(32, (3, 3), activation='relu', input_shape=(150, 150, 3)))\n",
        "model.add(layers.MaxPooling2D((2, 2)))\n",
        "model.add(layers.Conv2D(64, (3, 3), activation='relu'))\n",
        "model.add(layers.MaxPooling2D((2, 2)))\n",
        "model.add(layers.Conv2D(128, (3, 3), activation='relu'))\n",
        "model.add(layers.MaxPooling2D((2, 2)))\n",
        "model.add(layers.Conv2D(128, (3, 3), activation='relu'))\n",
        "model.add(layers.MaxPooling2D((2, 2)))\n",
        "model.add(layers.Flatten())\n",
        "model.add(layers.Dense(512, activation='relu'))\n",
        "model.add(layers.Dense(1, activation='sigmoid'))\n",
        "\n",
        "model.compile(optimizer=optimizers.RMSprop(lr=1e-4),\n",
        "\t\t\t  loss='binary_crossentropy',\n",
        "\t\t\t  metrics=['acc'])\n",
        "\n",
        "# Create data generators for training and validation\n",
        "train_dir = os.path.join(os.getcwd(), 'cats_and_dogs', 'train')\n",
        "validation_dir = os.path.join(os.getcwd(), 'cats_and_dogs', 'validation')\n",
        "\n",
        "train_datagen = ImageDataGenerator(rescale=1./255)\n",
        "test_datagen = ImageDataGenerator(rescale=1./255)\n",
        "\n",
        "train_generator = train_datagen.flow_from_directory(\n",
        "\ttrain_dir,\n",
        "\ttarget_size=(150, 150),\n",
        "\tbatch_size=20,\n",
        "\tclass_mode='binary')\n",
        "\n",
        "validation_generator = test_datagen.flow_from_directory(\n",
        "\tvalidation_dir,\n",
        "\ttarget_size=(150, 150),\n",
        "\tbatch_size=20,\n",
        "\tclass_mode='binary')\n",
        "\n",
        "# Train the model using training and validation generators\n",
        "history = model.fit_generator(\n",
        "\ttrain_generator,\n",
        "\tsteps_per_epoch=100,\n",
        "\tepochs=1,\n",
        "\tvalidation_data=validation_generator,\n",
        "\tvalidation_steps=1)"
      ],
      "execution_count": 7,
      "outputs": [
        {
          "output_type": "stream",
          "text": [
            "Found 2000 images belonging to 2 classes.\n",
            "Found 1000 images belonging to 2 classes.\n",
            "100/100 [==============================] - 143s 1s/step - loss: 0.6917 - acc: 0.5250 - val_loss: 0.6890 - val_acc: 0.5000\n"
          ],
          "name": "stdout"
        }
      ]
    },
    {
      "metadata": {
        "id": "qJxISC2rk3z8",
        "colab_type": "code",
        "colab": {
          "base_uri": "https://localhost:8080/",
          "height": 53
        },
        "outputId": "0cb43e9e-4fee-437a-c961-ebd39448caff"
      },
      "cell_type": "code",
      "source": [
        "test_dir = os.path.join(os.getcwd(), 'cats_and_dogs', 'test')\n",
        "test_generator = test_datagen.flow_from_directory(\n",
        "  test_dir,\n",
        "  target_size=(150, 150),\n",
        "  batch_size\n",
        "    =20,\n",
        "  class_mode='binary')\n",
        "\n",
        "loss, accuracy = model.evaluate_generator(test_generator)\n",
        "print(accuracy)"
      ],
      "execution_count": 10,
      "outputs": [
        {
          "output_type": "stream",
          "text": [
            "Found 1000 images belonging to 2 classes.\n",
            "0.53\n"
          ],
          "name": "stdout"
        }
      ]
    }
  ]
}