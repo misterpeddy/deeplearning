{
  "nbformat": 4,
  "nbformat_minor": 0,
  "metadata": {
    "colab": {
      "name": "simple_multi-class.ipynb",
      "version": "0.3.2",
      "provenance": [],
      "include_colab_link": true
    },
    "kernelspec": {
      "name": "python3",
      "display_name": "Python 3"
    }
  },
  "cells": [
    {
      "cell_type": "markdown",
      "metadata": {
        "id": "view-in-github",
        "colab_type": "text"
      },
      "source": [
        "<a href=\"https://colab.research.google.com/github/unclepeddy/deeplearning/blob/master/simple_multi_class.ipynb\" target=\"_parent\"><img src=\"https://colab.research.google.com/assets/colab-badge.svg\" alt=\"Open In Colab\"/></a>"
      ]
    },
    {
      "metadata": {
        "id": "lY5AQYKZvgIB",
        "colab_type": "code",
        "colab": {
          "base_uri": "https://localhost:8080/",
          "height": 359
        },
        "outputId": "f4d9bd0c-2388-4d16-9028-65b2dc449f5e"
      },
      "cell_type": "code",
      "source": [
        "! pip install tf-nightly-2.0-preview"
      ],
      "execution_count": 1,
      "outputs": [
        {
          "output_type": "stream",
          "text": [
            "Requirement already satisfied: tf-nightly-2.0-preview in /usr/local/lib/python3.6/dist-packages (2.0.0.dev20190330)\n",
            "Requirement already satisfied: numpy<2.0,>=1.14.5 in /usr/local/lib/python3.6/dist-packages (from tf-nightly-2.0-preview) (1.14.6)\n",
            "Requirement already satisfied: protobuf>=3.6.1 in /usr/local/lib/python3.6/dist-packages (from tf-nightly-2.0-preview) (3.7.1)\n",
            "Requirement already satisfied: grpcio>=1.8.6 in /usr/local/lib/python3.6/dist-packages (from tf-nightly-2.0-preview) (1.15.0)\n",
            "Requirement already satisfied: absl-py>=0.7.0 in /usr/local/lib/python3.6/dist-packages (from tf-nightly-2.0-preview) (0.7.1)\n",
            "Requirement already satisfied: astor>=0.6.0 in /usr/local/lib/python3.6/dist-packages (from tf-nightly-2.0-preview) (0.7.1)\n",
            "Requirement already satisfied: wheel>=0.26 in /usr/local/lib/python3.6/dist-packages (from tf-nightly-2.0-preview) (0.33.1)\n",
            "Requirement already satisfied: tb-nightly<1.15.0a0,>=1.14.0a0 in /usr/local/lib/python3.6/dist-packages (from tf-nightly-2.0-preview) (1.14.0a20190319)\n",
            "Requirement already satisfied: keras-preprocessing>=1.0.5 in /usr/local/lib/python3.6/dist-packages (from tf-nightly-2.0-preview) (1.0.9)\n",
            "Requirement already satisfied: keras-applications>=1.0.6 in /usr/local/lib/python3.6/dist-packages (from tf-nightly-2.0-preview) (1.0.7)\n",
            "Requirement already satisfied: tensorflow-estimator-2.0-preview in /usr/local/lib/python3.6/dist-packages (from tf-nightly-2.0-preview) (1.14.0.dev2019033000)\n",
            "Requirement already satisfied: gast>=0.2.0 in /usr/local/lib/python3.6/dist-packages (from tf-nightly-2.0-preview) (0.2.2)\n",
            "Requirement already satisfied: termcolor>=1.1.0 in /usr/local/lib/python3.6/dist-packages (from tf-nightly-2.0-preview) (1.1.0)\n",
            "Requirement already satisfied: google-pasta>=0.1.2 in /usr/local/lib/python3.6/dist-packages (from tf-nightly-2.0-preview) (0.1.4)\n",
            "Requirement already satisfied: six>=1.10.0 in /usr/local/lib/python3.6/dist-packages (from tf-nightly-2.0-preview) (1.11.0)\n",
            "Requirement already satisfied: setuptools in /usr/local/lib/python3.6/dist-packages (from protobuf>=3.6.1->tf-nightly-2.0-preview) (40.8.0)\n",
            "Requirement already satisfied: werkzeug>=0.11.15 in /usr/local/lib/python3.6/dist-packages (from tb-nightly<1.15.0a0,>=1.14.0a0->tf-nightly-2.0-preview) (0.15.1)\n",
            "Requirement already satisfied: markdown>=2.6.8 in /usr/local/lib/python3.6/dist-packages (from tb-nightly<1.15.0a0,>=1.14.0a0->tf-nightly-2.0-preview) (3.1)\n",
            "Requirement already satisfied: h5py in /usr/local/lib/python3.6/dist-packages (from keras-applications>=1.0.6->tf-nightly-2.0-preview) (2.8.0)\n"
          ],
          "name": "stdout"
        }
      ]
    },
    {
      "metadata": {
        "id": "fIq2cSaFvh4o",
        "colab_type": "code",
        "colab": {
          "base_uri": "https://localhost:8080/",
          "height": 35
        },
        "outputId": "cb880407-a71a-4c45-df24-422fc89c56e8"
      },
      "cell_type": "code",
      "source": [
        "import tensorflow as tf\n",
        "from tensorflow.keras import models, layers, losses, optimizers, metrics\n",
        "from tensorflow.keras.datasets import reuters\n",
        "from tensorflow.keras.utils import to_categorical\n",
        "import matplotlib.pyplot as plt\n",
        "import numpy as np\n",
        "\n",
        "print(tf.__version__)"
      ],
      "execution_count": 3,
      "outputs": [
        {
          "output_type": "stream",
          "text": [
            "2.0.0-dev20190330\n"
          ],
          "name": "stdout"
        }
      ]
    },
    {
      "metadata": {
        "id": "RVSVBDbbvgcI",
        "colab_type": "code",
        "colab": {}
      },
      "cell_type": "code",
      "source": [
        "# Restrict dataset to max_words most frequent words\n",
        "max_words = 10000\n",
        "\n",
        "# Given list of word sequences, return list of one-hot encoded reviews\n",
        "def vectorize_sequences(sequences, dimension=max_words):\n",
        "  results = np.zeros((len(sequences), dimension))\n",
        "  for i, sequence in enumerate(sequences):\n",
        "    results[i, sequence] = 1\n",
        "  return results\n",
        "\n",
        "# Load labeled training and test data\n",
        "(train_data, train_labels), (test_data, test_labels) = reuters.load_data(num_words=max_words)\n",
        "\n",
        "# One-hot encode sentences and labels\n",
        "x_train = vectorize_sequences(train_data)\n",
        "x_test = vectorize_sequences(test_data)\n",
        "\n",
        "one_hot_train_labels = to_categorical(train_labels)\n",
        "one_hot_test_labels = to_categorical(test_labels)"
      ],
      "execution_count": 0,
      "outputs": []
    },
    {
      "metadata": {
        "id": "Yg5xzfupwhGX",
        "colab_type": "code",
        "colab": {
          "base_uri": "https://localhost:8080/",
          "height": 395
        },
        "outputId": "6f37bc13-0d40-4c04-e094-9a3217c09386"
      },
      "cell_type": "code",
      "source": [
        "# Number of classification classes\n",
        "num_classes = one_hot_train_labels.shape[1]\n",
        "# Training hyperparams\n",
        "num_epochs = 10\n",
        "batch_size = 512\n",
        "dense_layer_width = 64\n",
        "validation_set_size = 1000\n",
        "\n",
        "# Build and compile simple model: dense -> dense -> softmax classifier\n",
        "model = models.Sequential()\n",
        "model.add(layers.Dense(dense_layer_width, activation='relu', input_shape=(max_words,)))\n",
        "model.add(layers.Dense(dense_layer_width, activation='relu'))\n",
        "model.add(layers.Dense(num_classes, activation='softmax'))\n",
        "model.compile(optimizer='rmsprop',\n",
        "              loss=losses.categorical_crossentropy,\n",
        "              metrics=[metrics.categorical_accuracy])\n",
        "\n",
        "# Set aside first 1000 data points for validation\n",
        "x_val = x_train[:validation_set_size]\n",
        "y_val = one_hot_train_labels[:validation_set_size]\n",
        "partial_x_train = x_train[validation_set_size:]\n",
        "partial_y_train = one_hot_train_labels[validation_set_size:]\n",
        "\n",
        "# Train the model for num_epochs epochs\n",
        "history = model.fit(partial_x_train,\n",
        "                    partial_y_train,\n",
        "                    epochs=num_epochs,\n",
        "                    batch_size=batch_size,\n",
        "                    validation_data=(x_val, y_val))"
      ],
      "execution_count": 6,
      "outputs": [
        {
          "output_type": "stream",
          "text": [
            "Train on 7982 samples, validate on 1000 samples\n",
            "Epoch 1/10\n",
            "7982/7982 [==============================] - 3s 341us/sample - loss: 2.7170 - categorical_accuracy: 0.5322 - val_loss: 1.8460 - val_categorical_accuracy: 0.6500\n",
            "Epoch 2/10\n",
            "7982/7982 [==============================] - 1s 186us/sample - loss: 1.4910 - categorical_accuracy: 0.7001 - val_loss: 1.3562 - val_categorical_accuracy: 0.7070\n",
            "Epoch 3/10\n",
            "7982/7982 [==============================] - 1s 187us/sample - loss: 1.0930 - categorical_accuracy: 0.7670 - val_loss: 1.1547 - val_categorical_accuracy: 0.7500\n",
            "Epoch 4/10\n",
            "7982/7982 [==============================] - 2s 189us/sample - loss: 0.8559 - categorical_accuracy: 0.8207 - val_loss: 1.0632 - val_categorical_accuracy: 0.7730\n",
            "Epoch 5/10\n",
            "7982/7982 [==============================] - 1s 187us/sample - loss: 0.6816 - categorical_accuracy: 0.8619 - val_loss: 0.9618 - val_categorical_accuracy: 0.8150\n",
            "Epoch 6/10\n",
            "7982/7982 [==============================] - 1s 187us/sample - loss: 0.5435 - categorical_accuracy: 0.8910 - val_loss: 0.9231 - val_categorical_accuracy: 0.8190\n",
            "Epoch 7/10\n",
            "7982/7982 [==============================] - 2s 189us/sample - loss: 0.4421 - categorical_accuracy: 0.9087 - val_loss: 0.8988 - val_categorical_accuracy: 0.8160\n",
            "Epoch 8/10\n",
            "7982/7982 [==============================] - 2s 195us/sample - loss: 0.3605 - categorical_accuracy: 0.9241 - val_loss: 0.9075 - val_categorical_accuracy: 0.8150\n",
            "Epoch 9/10\n",
            "7982/7982 [==============================] - 1s 186us/sample - loss: 0.2970 - categorical_accuracy: 0.9362 - val_loss: 0.9004 - val_categorical_accuracy: 0.8150\n",
            "Epoch 10/10\n",
            "7982/7982 [==============================] - 1s 187us/sample - loss: 0.2517 - categorical_accuracy: 0.9434 - val_loss: 0.9026 - val_categorical_accuracy: 0.8200\n"
          ],
          "name": "stdout"
        }
      ]
    },
    {
      "metadata": {
        "id": "cJ_6khRHzDEW",
        "colab_type": "code",
        "colab": {
          "base_uri": "https://localhost:8080/",
          "height": 735
        },
        "outputId": "8667c5a8-775c-44e8-bc98-cef4f05b00af"
      },
      "cell_type": "code",
      "source": [
        "# Graph the training statistics\n",
        "loss = history.history['loss']\n",
        "val_loss = history.history['val_loss']\n",
        "acc = history.history['categorical_accuracy']\n",
        "val_acc = history.history['val_categorical_accuracy']\n",
        "\n",
        "# Plot accuracy and loss for training and validation\n",
        "epochs = range(1, len(loss) + 1)\n",
        "\n",
        "plt.plot(epochs, loss, 'bo', label='Training Loss')\n",
        "plt.plot(epochs, val_loss, 'b', label='Validation Loss')\n",
        "plt.title(\"Training and validation Loss\")\n",
        "plt.xlabel(\"Epochs\")\n",
        "plt.ylabel(\"Loss\")\n",
        "plt.show()\n",
        "\n",
        "plt.plot(epochs, acc, 'bo', label='Training Accuracy')\n",
        "plt.plot(epochs, val_acc, 'b', label='Validation Accuracy')\n",
        "plt.title(\"Training and validation Accuracy\")\n",
        "plt.xlabel(\"Epochs\")\n",
        "plt.ylabel(\"Accuracy\")\n",
        "plt.show()"
      ],
      "execution_count": 10,
      "outputs": [
        {
          "output_type": "display_data",
          "data": {
            "image/png": "[encoded data removed]",
            "text/plain": [
              "<Figure size 576x396 with 1 Axes>"
            ]
          },
          "metadata": {
            "tags": []
          }
        },
        {
          "output_type": "display_data",
          "data": {
            "image/png": "[encoded data removed]",
            "text/plain": [
              "<Figure size 576x396 with 1 Axes>"
            ]
          },
          "metadata": {
            "tags": []
          }
        }
      ]
    }
  ]
}