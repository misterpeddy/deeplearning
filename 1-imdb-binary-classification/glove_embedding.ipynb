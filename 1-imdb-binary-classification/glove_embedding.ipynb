{
  "nbformat": 4,
  "nbformat_minor": 0,
  "metadata": {
    "colab": {
      "name": "glove-embedding.ipynb",
      "version": "0.3.2",
      "provenance": [],
      "collapsed_sections": [],
      "include_colab_link": true
    },
    "kernelspec": {
      "name": "python3",
      "display_name": "Python 3"
    }
  },
  "cells": [
    {
      "cell_type": "markdown",
      "metadata": {
        "id": "view-in-github",
        "colab_type": "text"
      },
      "source": [
        "<a href=\"https://colab.research.google.com/github/unclepeddy/deeplearning/blob/master/1-imdb-binary-classification/glove_embedding.ipynb\" target=\"_parent\"><img src=\"https://colab.research.google.com/assets/colab-badge.svg\" alt=\"Open In Colab\"/></a>"
      ]
    },
    {
      "metadata": {
        "id": "8ZxzrocRJqoN",
        "colab_type": "code",
        "colab": {
          "base_uri": "https://localhost:8080/",
          "height": 35
        },
        "outputId": "1f263bf4-0eed-4c60-c774-d38eb23692d9"
      },
      "cell_type": "code",
      "source": [
        "import tensorflow as tf\n",
        "\n",
        "from tensorflow.keras import models, layers\n",
        "from tensorflow.keras.preprocessing.text import Tokenizer\n",
        "from tensorflow.keras.preprocessing.sequence import pad_sequences\n",
        "import numpy as np\n",
        "\n",
        "import os\n",
        "\n",
        "print(tf.__version__)"
      ],
      "execution_count": 80,
      "outputs": [
        {
          "output_type": "stream",
          "text": [
            "2.0.0-dev20190330\n"
          ],
          "name": "stdout"
        }
      ]
    },
    {
      "metadata": {
        "id": "OJs8o9-AKjqX",
        "colab_type": "code",
        "colab": {}
      },
      "cell_type": "code",
      "source": [
        "# Download the 822 MB GLoVe embedding\n",
        "! curl -o glove.6B.zip https://nlp.stanford.edu/data/glove.6B.zip\n",
        "\n",
        "# Unzip the GLoVe embedding \n",
        "! mkdir glove\n",
        "! unzip -o glove.6B.zip -d glove"
      ],
      "execution_count": 0,
      "outputs": []
    },
    {
      "metadata": {
        "id": "-41cN80iLSIj",
        "colab_type": "code",
        "colab": {}
      },
      "cell_type": "code",
      "source": [
        "# Download the raw IMDB reviews task data\n",
        "#! curl -o imdb.zip https://mng.bz/0tlo\n",
        "#! ls\n",
        "# This doesn't work on hosted runtimes due to a lack of SSL certificate..\n",
        "# For now, the workaround is to download aclImdb.zip on your host and upload \n",
        "# to the runtime's file system out of band\n",
        "# From here on out, we assume aclImdb.zip exists in /content"
      ],
      "execution_count": 0,
      "outputs": []
    },
    {
      "metadata": {
        "id": "BO2LEcbpNzks",
        "colab_type": "code",
        "colab": {}
      },
      "cell_type": "code",
      "source": [
        "%%bash\n",
        "if [ ! -f aclImdb.zip ]; then\n",
        "  echo \"aclImdb.zip does not exist - exiting\"\n",
        "  exit 1\n",
        "fi\n",
        "unzip -o aclImdb.zip \n",
        "mv aclImdb imdb_data"
      ],
      "execution_count": 0,
      "outputs": []
    },
    {
      "metadata": {
        "id": "fHODV1jDJ2oe",
        "colab_type": "code",
        "colab": {}
      },
      "cell_type": "code",
      "source": [
        "# Set base, data and training directories\n",
        "base_dir = os.getcwd()\n",
        "data_dir = os.path.join(base_dir, 'imdb_data')\n",
        "train_dir = os.path.join(data_dir, 'train')\n",
        "\n",
        "labels = []\n",
        "texts = []\n",
        "\n",
        "# Go through all text files in train_dir/[pos, neg] and\n",
        "# populate texts with examples and labels (0 for positive, 1 for negative)\n",
        "for label in ['pos', 'neg']:\n",
        "\tdir_name = os.path.join(train_dir, label)\n",
        "\tfor fname in os.listdir(dir_name):\n",
        "\t\tif fname[-4:] == '.txt':\n",
        "\t\t\tfile = open(os.path.join(dir_name, fname))\n",
        "\t\t\tcontent = file.read()\n",
        "\t\t\ttexts.append(content)\n",
        "\t\t\tfile.close()\n",
        "\t\t\tif (label == 'pos'):\n",
        "\t\t\t\tlabels.append(0)\n",
        "\t\t\telse:\n",
        "\t\t\t\tlabels.append(1)"
      ],
      "execution_count": 0,
      "outputs": []
    },
    {
      "metadata": {
        "id": "KI3KbmLsRFSD",
        "colab_type": "code",
        "colab": {
          "base_uri": "https://localhost:8080/",
          "height": 71
        },
        "outputId": "57028e27-8310-4aea-c61e-ed1c7fbe02a9"
      },
      "cell_type": "code",
      "source": [
        "# Maximum length of a sentence sequence\n",
        "maxlen = 100\n",
        "# Number of training samples\n",
        "training_samples = 200\n",
        "# Number of validation samples\n",
        "validation_samples = 10000\n",
        "# Vocabulary size\n",
        "max_words = 10000\n",
        "embedding_input_dim = max_words\n",
        "# Size of embedding output space\n",
        "embedding_output_dim = 100\n",
        "\n",
        "# Create a tokenizer and teach it the vocabulary\n",
        "tokenizer = Tokenizer(num_words=max_words)\n",
        "tokenizer.fit_on_texts(texts)\n",
        "\n",
        "# Vectorize texts to produce a list sequences with a word index\n",
        "sequences = tokenizer.texts_to_sequences(texts)\n",
        "word_index = tokenizer.word_index\n",
        "print(\"Found %s unique tokens\" % len(word_index))\n",
        "\n",
        "# Convert sequences and labels to input and output tensors\n",
        "data = pad_sequences(sequences, maxlen=maxlen)\n",
        "labels = np.asarray(labels)\n",
        "\n",
        "print(\"Shape of data tensor: \", data.shape)\n",
        "print(\"Shape of label tensor: \", labels.shape)\n",
        "\n",
        "# Shuffle the data and labels\n",
        "indices = np.arange(data.shape[0])\n",
        "np.random.shuffle(indices)\n",
        "data = data[indices]\n",
        "labels = labels[indices]\n",
        "\n",
        "# Build training and validation data sets\n",
        "x_train = data[:training_samples]\n",
        "y_train = labels[:training_samples]\n",
        "x_val = data[training_samples : training_samples + validation_samples]\n",
        "y_val = labels[training_samples : training_samples + validation_samples]"
      ],
      "execution_count": 73,
      "outputs": [
        {
          "output_type": "stream",
          "text": [
            "Found 88582 unique tokens\n",
            "Shape of data tensor:  (25000, 100)\n",
            "Shape of label tensor:  (25000,)\n"
          ],
          "name": "stdout"
        }
      ]
    },
    {
      "metadata": {
        "id": "K_AGFL-iRFZE",
        "colab_type": "code",
        "colab": {
          "base_uri": "https://localhost:8080/",
          "height": 35
        },
        "outputId": "e3a29030-a6c4-402b-bfe9-3278998e4e83"
      },
      "cell_type": "code",
      "source": [
        "# Locate the GLoVe index file and build empty index\n",
        "glove_dir = os.path.join(base_dir, 'glove')\n",
        "glove_file = open(os.path.join(glove_dir, 'glove.6B.100d.txt'))\n",
        "glove_index = {}\n",
        "\n",
        "# Build the index in memory by iterating through file line by line\n",
        "# Each line is composed of a word followed by N embedding coefficients\n",
        "for line in glove_file:\n",
        "\tvalues = line.split()\n",
        "\tword = values[0]\n",
        "\tcoefficients = np.asarray(values[1:], dtype='float32')\n",
        "\tglove_index[word] = coefficients\n",
        "glove_file.close()\n",
        "\n",
        "print('Imported GloVe index with %s words' % len(glove_index))"
      ],
      "execution_count": 72,
      "outputs": [
        {
          "output_type": "stream",
          "text": [
            "Imported GloVe index with 400000 words\n"
          ],
          "name": "stdout"
        }
      ]
    },
    {
      "metadata": {
        "id": "uj95lCNLQyr1",
        "colab_type": "code",
        "colab": {
          "base_uri": "https://localhost:8080/",
          "height": 395
        },
        "outputId": "7cf7c5ed-9bdd-4645-a1d0-8226de8a7d18"
      },
      "cell_type": "code",
      "source": [
        "# Build embedding matrix mapping using word_index\n",
        "embedding_matrix = np.zeros((embedding_input_dim, embedding_output_dim))\n",
        "for word, i in word_index.items():\n",
        "\tembedding = glove_index.get(word)\n",
        "\tif (i < embedding_input_dim and embedding is not None):\n",
        "\t\tembedding_matrix[i] = embedding\n",
        "\n",
        "# Build a simple model: pre-trained embedding -> ReLU dense layer -> sigmoid\n",
        "model = models.Sequential()\n",
        "model.add(layers.Embedding(embedding_input_dim, embedding_output_dim, input_length=maxlen))\n",
        "model.add(layers.Flatten())\n",
        "model.add(layers.Dense(32, activation='relu'))\n",
        "model.add(layers.Dense(1, activation='sigmoid'))\n",
        "\n",
        "# Set the weights of the embedding layer to GLoVe and freeze them\n",
        "model.layers[0].set_weights([embedding_matrix])\n",
        "model.layers[0].trainable = False\n",
        "\n",
        "# Compile and train the model\n",
        "model.compile(optimizer='rmsprop', loss='binary_crossentropy', metrics=['acc'])\n",
        "history = model.fit(x_train, y_train, \n",
        "\tepochs=10, \n",
        "\tbatch_size=32, \n",
        "\tvalidation_data=(x_val, y_val))\n",
        "\n",
        "# Optionally save the model weights\n",
        "# Increase the size of training dataset (from 200) to achieve better results\n",
        "model.save_weights('pre_trained_glove_model.h5')"
      ],
      "execution_count": 79,
      "outputs": [
        {
          "output_type": "stream",
          "text": [
            "Train on 200 samples, validate on 10000 samples\n",
            "Epoch 1/10\n",
            "200/200 [==============================] - 1s 6ms/sample - loss: 1.4783 - acc: 0.5300 - val_loss: 0.6989 - val_acc: 0.4969\n",
            "Epoch 2/10\n",
            "200/200 [==============================] - 1s 4ms/sample - loss: 0.6737 - acc: 0.6700 - val_loss: 0.7054 - val_acc: 0.5000\n",
            "Epoch 3/10\n",
            "200/200 [==============================] - 1s 4ms/sample - loss: 0.4959 - acc: 0.8200 - val_loss: 1.0479 - val_acc: 0.4949\n",
            "Epoch 4/10\n",
            "200/200 [==============================] - 1s 4ms/sample - loss: 0.4285 - acc: 0.8550 - val_loss: 0.7715 - val_acc: 0.4963\n",
            "Epoch 5/10\n",
            "200/200 [==============================] - 1s 4ms/sample - loss: 0.3647 - acc: 0.8400 - val_loss: 1.2221 - val_acc: 0.5053\n",
            "Epoch 6/10\n",
            "200/200 [==============================] - 1s 4ms/sample - loss: 0.2688 - acc: 0.9300 - val_loss: 1.2736 - val_acc: 0.5053\n",
            "Epoch 7/10\n",
            "200/200 [==============================] - 1s 4ms/sample - loss: 0.2403 - acc: 0.9200 - val_loss: 0.9433 - val_acc: 0.4980\n",
            "Epoch 8/10\n",
            "200/200 [==============================] - 1s 4ms/sample - loss: 0.1391 - acc: 0.9950 - val_loss: 0.8618 - val_acc: 0.5019\n",
            "Epoch 9/10\n",
            "200/200 [==============================] - 1s 4ms/sample - loss: 0.0936 - acc: 1.0000 - val_loss: 0.8959 - val_acc: 0.5014\n",
            "Epoch 10/10\n",
            "200/200 [==============================] - 1s 4ms/sample - loss: 0.0778 - acc: 1.0000 - val_loss: 1.6481 - val_acc: 0.4951\n"
          ],
          "name": "stdout"
        }
      ]
    }
  ]
}